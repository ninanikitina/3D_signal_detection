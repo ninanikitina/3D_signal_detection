{
 "cells": [
  {
   "cell_type": "markdown",
   "source": [
    "# An Initial Exploration of LIV + UV KASH cells image analysis"
   ],
   "metadata": {
    "collapsed": false
   }
  },
  {
   "cell_type": "markdown",
   "source": [
    "## Data Loading and Preprocessing"
   ],
   "metadata": {
    "collapsed": false
   }
  },
  {
   "cell_type": "code",
   "execution_count": null,
   "outputs": [],
   "source": [
    "import pandas as pd\n",
    "import seaborn as sns\n",
    "import matplotlib.pyplot as plt\n",
    "import re\n",
    "import scipy.stats as stats\n",
    "from scipy.stats import mannwhitneyu\n",
    "from itertools import combinations\n",
    "from statannotations.Annotator import Annotator"
   ],
   "metadata": {
    "collapsed": false,
    "pycharm": {
     "is_executing": true
    }
   }
  },
  {
   "cell_type": "code",
   "execution_count": null,
   "outputs": [],
   "source": [
    "file_path = r\"D:\\BioLab\\Current_experiments\\Anamaria_3d_experiment\\02.08.2023_analysis_data\\cell_stat.csv\"\n",
    "initial_df = pd.read_csv(file_path)\n",
    "initial_df = initial_df.dropna(how='all')\n",
    "initial_df"
   ],
   "metadata": {
    "collapsed": false
   }
  },
  {
   "cell_type": "code",
   "execution_count": null,
   "outputs": [],
   "source": [
    "def extract_info(image_name):\n",
    "    date_pattern = re.compile(r'\\d+-\\d+-\\d+')\n",
    "    date = date_pattern.search(image_name).group(0)\n",
    "\n",
    "    doxy = \"+doxy\" if \"+doxy\" in image_name else \"-doxy\"\n",
    "\n",
    "    liv = \"+LIV\" if \"+LIV\" in image_name else \"-LIV\"\n",
    "\n",
    "    treatment = \"+Cisp\" if \"+Cisp\" in image_name else \"Control\"\n",
    "\n",
    "    time_pattern = re.compile(r'0hr|24hr|48hr')\n",
    "    time = time_pattern.search(image_name).group(0)\n",
    "\n",
    "    return pd.Series([date, doxy, liv, treatment, time], index=['Date', 'Doxy', 'LIV', 'Treatment', 'Time'])\n",
    "\n"
   ],
   "metadata": {
    "collapsed": false
   }
  },
  {
   "cell_type": "code",
   "execution_count": null,
   "outputs": [],
   "source": [
    "# Extract the information into temporary DataFrame\n",
    "temp_df = initial_df['Image_name'].apply(extract_info)\n",
    "\n",
    "# Find the index of the \"Image_name\" column\n",
    "idx = initial_df.columns.get_loc('Image_name') + 1\n",
    "\n",
    "# Insert the new columns\n",
    "for col in reversed(temp_df.columns):\n",
    "    initial_df.insert(loc=idx, column=col, value=temp_df[col])\n"
   ],
   "metadata": {
    "collapsed": false,
    "pycharm": {
     "is_executing": true
    }
   }
  },
  {
   "cell_type": "code",
   "execution_count": null,
   "outputs": [],
   "source": [
    "initial_df"
   ],
   "metadata": {
    "collapsed": false,
    "pycharm": {
     "is_executing": true
    }
   }
  },
  {
   "cell_type": "code",
   "execution_count": null,
   "outputs": [],
   "source": [
    "initial_df.columns"
   ],
   "metadata": {
    "collapsed": false,
    "pycharm": {
     "is_executing": true
    }
   }
  },
  {
   "cell_type": "code",
   "execution_count": null,
   "outputs": [],
   "source": [
    "filtered_df = initial_df[['Image_name', 'Img_num','Cell_num','Doxy', 'LIV', 'Treatment', 'Time', 'Nucleus_volume, cubic_micrometre',\n",
    "       'Nucleus_length, micrometre', 'Nucleus_width, micrometre',\n",
    "       'Nucleus_high, micrometre', 'AF594-T2 av_signal_in_nuc_area_3D', 'AF594-T2 has ring',\n",
    "       'AF594-T2 ring intensity coef', 'AF488-T3 av_signal_in_nuc_area_3D']]"
   ],
   "metadata": {
    "collapsed": false,
    "pycharm": {
     "is_executing": true
    }
   }
  },
  {
   "cell_type": "code",
   "execution_count": null,
   "outputs": [],
   "source": [
    "correlation_matrix = filtered_df.corr()\n",
    "plt.figure(figsize=(12, 9)) # Set the size to 15 inches wide and 10 inches tall\n",
    "sns.heatmap(correlation_matrix, annot=True)\n",
    "plt.show()"
   ],
   "metadata": {
    "collapsed": false,
    "pycharm": {
     "is_executing": true
    }
   }
  },
  {
   "cell_type": "code",
   "execution_count": null,
   "outputs": [],
   "source": [
    "filtered_df['Group'] = filtered_df['Doxy'] + ', ' + filtered_df['LIV'] + ', ' + filtered_df['Treatment'] + ', ' + filtered_df['Time']\n",
    "plt.figure(figsize=(15, 10))\n",
    "sns.boxplot(x='Group', y='AF488-T3 av_signal_in_nuc_area_3D', data=filtered_df)\n",
    "plt.title('Distribution of AF488-T3 av_signal_in_nuc_area_3D across groups \\nWithout ring/no-ring correction')\n",
    "plt.xticks(rotation=45) # Rotate x-axis labels for better visibility\n",
    "plt.savefig('figures/Distribution of AF488-T3 av_signal_in_nuc_area_3D across groups.png', dpi=300, bbox_inches='tight')\n",
    "plt.show()"
   ],
   "metadata": {
    "collapsed": false
   }
  },
  {
   "cell_type": "markdown",
   "source": [
    "## Signal background\n",
    "\n",
    "Acquire control cells and measure the average signal at 0h and 48 hours for all cells. This signal will then be subtracted from the average signal of each cell subsequently."
   ],
   "metadata": {
    "collapsed": false
   }
  },
  {
   "cell_type": "code",
   "execution_count": null,
   "outputs": [],
   "source": [
    "cnt_signal = filtered_df[filtered_df['Treatment'] == 'Control']['AF488-T3 av_signal_in_nuc_area_3D'].mean()\n",
    "cnt_signal = 0"
   ],
   "metadata": {
    "collapsed": false
   }
  },
  {
   "cell_type": "code",
   "execution_count": null,
   "outputs": [],
   "source": [
    "filtered_df['AF488-T3 av_signal_in_nuc_area_3D_removed_background'] = filtered_df['AF488-T3 av_signal_in_nuc_area_3D'] - cnt_signal\n",
    "a = filtered_df[filtered_df['Treatment'] == '+Cisp']\n",
    "a[a['AF488-T3 av_signal_in_nuc_area_3D_removed_background'] < 0]"
   ],
   "metadata": {
    "collapsed": false
   }
  },
  {
   "cell_type": "markdown",
   "source": [
    "## Total repair signal within nucleus area\n",
    "\n",
    "New column titled \"AF488-T3 Volume_corrected_signal_in_nuc_area_3D.\" This will display the repair signal within each nucleus in its entirety. The value is derived from the background-corrected average signal."
   ],
   "metadata": {
    "collapsed": false
   }
  },
  {
   "cell_type": "code",
   "execution_count": null,
   "outputs": [],
   "source": [
    "resolution = 0.085 * 0.058 * 0.230 #x.resolution * y.resolution * z.resolution\n",
    "filtered_df['AF488-T3 Volume_corrected_signal_in_nuc_area_3D'] = filtered_df['AF488-T3 av_signal_in_nuc_area_3D_removed_background'] * filtered_df['Nucleus_volume, cubic_micrometre']"
   ],
   "metadata": {
    "collapsed": false
   }
  },
  {
   "cell_type": "code",
   "execution_count": null,
   "outputs": [],
   "source": [
    "import csv\n",
    "RING_CUTT_OFF_COEF = 1\n",
    "filtered_df['AF594-T2 has ring'] = filtered_df['AF594-T2 ring intensity coef'] >= RING_CUTT_OFF_COEF\n",
    "\n",
    "with pd.ExcelWriter('raw_data.xlsx') as writer:\n",
    "    filtered_df.to_excel(writer, index=False)\n",
    "\n",
    "\n",
    "filtered_df.to_csv('raw_data.csv', index=False, quoting=csv.QUOTE_NONNUMERIC)"
   ],
   "metadata": {
    "collapsed": false
   }
  },
  {
   "cell_type": "code",
   "execution_count": null,
   "outputs": [],
   "source": [
    "import seaborn as sns\n",
    "import matplotlib.pyplot as plt\n",
    "\n",
    "plt.figure(figsize=(15, 10))\n",
    "\n",
    "# Extract the order in which seaborn plots the groups\n",
    "order = sorted(filtered_df['Group'].unique())\n",
    "\n",
    "# Boxplot with fixed order\n",
    "sns.boxplot(x='Group', y='AF488-T3 Volume_corrected_signal_in_nuc_area_3D', data=filtered_df, order=order)\n",
    "\n",
    "# Calculate the means and SDs for each group\n",
    "group_means = filtered_df.groupby('Group')['AF488-T3 Volume_corrected_signal_in_nuc_area_3D'].mean().reindex(order)\n",
    "group_stds = filtered_df.groupby('Group')['AF488-T3 Volume_corrected_signal_in_nuc_area_3D'].std().reindex(order)\n",
    "\n",
    "# Define a consistent height for all the text labels\n",
    "label_height = 2000000  # Some margin above the maximum value\n",
    "\n",
    "# Display the means and SDs at the consistent height\n",
    "for i, (group, mean) in enumerate(group_means.iteritems()):\n",
    "    plt.text(i, label_height, f\"Mean: {mean:.0f}\", ha='center', color='red', fontsize=10)\n",
    "    plt.text(i, label_height - 200000, f\"SD: ±{group_stds[group]:.0f}\", ha='center', color='blue', fontsize=10)\n",
    "\n",
    "plt.title('Distribution of AF488-T3 Volume_corrected_signal_in_nuc_area_3D \\nNo background correction \\nWithout ring/no-ring correction')\n",
    "plt.xticks(rotation=45) # Rotate x-axis labels for better visibility\n",
    "plt.savefig('figures/Distribution of AF488-T3 Volume_corrected_signal_in_nuc_area_3D.png', dpi=300, bbox_inches='tight')\n",
    "plt.show()"
   ],
   "metadata": {
    "collapsed": false,
    "pycharm": {
     "is_executing": true
    }
   }
  },
  {
   "cell_type": "code",
   "execution_count": null,
   "outputs": [],
   "source": [
    "import seaborn as sns\n",
    "import matplotlib.pyplot as plt\n",
    "\n",
    "# Define the groups\n",
    "groups_true = [\n",
    "    '+doxy, +LIV, +Cisp, 0hr',\n",
    "    '+doxy, +LIV, +Cisp, 48hr',\n",
    "    '+doxy, -LIV, +Cisp, 0hr',\n",
    "    '+doxy, -LIV, +Cisp, 48hr',\n",
    "    '+doxy, -LIV, Control, 0hr',\n",
    "    '+doxy, -LIV, Control, 48hr'\n",
    "]\n",
    "\n",
    "groups_false = [\n",
    "    '-doxy, +LIV, +Cisp, 0hr',\n",
    "    '-doxy, +LIV, +Cisp, 48hr',\n",
    "    '-doxy, -LIV, +Cisp, 0hr',\n",
    "    '-doxy, -LIV, +Cisp, 48hr'\n",
    "]\n",
    "\n",
    "# Filter the DataFrame based on conditions\n",
    "subset_true = filtered_df[(filtered_df['Group'].isin(groups_true)) & (filtered_df['AF594-T2 has ring'] == True)]\n",
    "subset_false = filtered_df[(filtered_df['Group'].isin(groups_false)) & (filtered_df['AF594-T2 has ring'] == False)]\n",
    "\n",
    "# Concatenate both dataframes for a unified plot\n",
    "combined_df = pd.concat([subset_true, subset_false], ignore_index=True)\n",
    "\n",
    "# Define colors for each group\n",
    "colors = sns.color_palette(\"husl\", len(groups_true + groups_false))\n",
    "\n",
    "# Plot combined boxplots with individual colors\n",
    "plt.figure(figsize=(20, 10))\n",
    "sns.boxplot(x='Group', y='AF488-T3 Volume_corrected_signal_in_nuc_area_3D', data=combined_df, palette=colors)\n",
    "\n",
    "# Labeling\n",
    "combined_means = combined_df.groupby('Group')['AF488-T3 Volume_corrected_signal_in_nuc_area_3D'].mean().reindex(groups_true + groups_false)\n",
    "combined_stds = combined_df.groupby('Group')['AF488-T3 Volume_corrected_signal_in_nuc_area_3D'].std().reindex(groups_true + groups_false)\n",
    "\n",
    "label_height =  2000000\n",
    "\n",
    "for i, (group, mean) in enumerate(combined_means.iteritems()):\n",
    "    plt.text(i, label_height, f\"{mean:.0f}\", ha='center', color='red', fontsize=15)\n",
    "    plt.text(i, label_height - 200000, f\"±{combined_stds[group]:.0f}\", ha='center', color='blue', fontsize=15)\n",
    "\n",
    "plt.title('Combined Distribution of AF488-T3 Volume_corrected_signal_in_nuc_area_3D \\nAdjusted to a ring presence: \\n+doxy with a ring, -doxy without a ring \\n\\n')\n",
    "plt.xticks(rotation=45)\n",
    "plt.savefig('figures/Distribution of AF488-T3 Volume_corrected_signal_in_nuc_area_3D_ring_no-ring.png', dpi=300, bbox_inches='tight')\n",
    "\n",
    "plt.show()\n"
   ],
   "metadata": {
    "collapsed": false,
    "pycharm": {
     "is_executing": true
    }
   }
  },
  {
   "cell_type": "code",
   "execution_count": null,
   "outputs": [],
   "source": [],
   "metadata": {
    "collapsed": false,
    "pycharm": {
     "is_executing": true
    }
   }
  },
  {
   "cell_type": "markdown",
   "source": [
    "## -Doxy + Cisp +LIV/-LIV 0hr/48hr"
   ],
   "metadata": {
    "collapsed": false
   }
  },
  {
   "cell_type": "code",
   "execution_count": null,
   "outputs": [],
   "source": [],
   "metadata": {
    "collapsed": false,
    "pycharm": {
     "is_executing": true
    }
   }
  },
  {
   "cell_type": "code",
   "execution_count": null,
   "outputs": [],
   "source": [
    "minus_doxy_plus_cisp_df = filtered_df[(filtered_df['Doxy'] == '-doxy') & (filtered_df['Treatment'] == '+Cisp')]\n",
    "minus_doxy_plus_cisp_df"
   ],
   "metadata": {
    "collapsed": false,
    "pycharm": {
     "is_executing": true
    }
   }
  },
  {
   "cell_type": "code",
   "execution_count": null,
   "outputs": [],
   "source": [
    "# Custom colors\n",
    "blue = (0.298, 0.447, 0.690)  # a desaturated blue color\n",
    "orange = (1.0, 0.498, 0.055)  # a desaturated orange color\n",
    "pal = [blue, orange]\n",
    "\n",
    "sns.set(font_scale=2, rc={'axes.facecolor':(0,0,0,0), 'figure.facecolor':(0,0,0,0)}, style=\"ticks\")\n",
    "\n",
    "significanceComparisons = [(('+LIV', '0hr'), ('+LIV', '48hr')),\n",
    "                           (('-LIV', '0hr'), ('-LIV','48hr'))]\n",
    "\n",
    "fig_args = {'x': 'LIV',\n",
    "            'y': 'AF488-T3 Volume_corrected_signal_in_nuc_area_3D',\n",
    "            'hue':'Time',\n",
    "            'data': minus_doxy_plus_cisp_df,\n",
    "            'dodge': True,\n",
    "            'palette': pal}\n",
    "\n",
    "configuration = {'test':'Mann-Whitney',\n",
    "                 'comparisons_correction':None,\n",
    "                 'text_format':'star'}\n",
    "\n",
    "fig, ax = plt.subplots(1,1, figsize=(15,10))\n",
    "\n",
    "sns.barplot(ax=ax, **fig_args)\n",
    "annotator = Annotator(ax=ax, pairs=significanceComparisons,\n",
    "                      **fig_args)\n",
    "annotator.configure(**configuration).apply_test().annotate()\n",
    "\n",
    "\n",
    "# Move legend and remove its background\n",
    "sns.move_legend(ax, \"upper left\", bbox_to_anchor=(1, 1))\n",
    "legend = ax.legend_\n",
    "legend.get_frame().set_alpha(0)"
   ],
   "metadata": {
    "collapsed": false,
    "pycharm": {
     "is_executing": true
    }
   }
  },
  {
   "cell_type": "code",
   "execution_count": null,
   "outputs": [],
   "source": [
    "filtered_df"
   ],
   "metadata": {
    "collapsed": false,
    "pycharm": {
     "is_executing": true
    }
   }
  },
  {
   "cell_type": "markdown",
   "source": [
    "## -Doxy +LIV +Cisp\n"
   ],
   "metadata": {
    "collapsed": false
   }
  },
  {
   "cell_type": "code",
   "execution_count": null,
   "outputs": [],
   "source": [
    "# Filter DataFrame to only include '- Doxy +Crisp +LIV' group without rings\n",
    "minus_doxy_plus_cisp_plus_liv_no_ring_df = filtered_df[(filtered_df['Doxy'] == '-doxy') & (filtered_df['Treatment'] == '+Cisp') & (filtered_df['LIV'] == '+LIV') & (filtered_df['AF594-T2 ring intensity coef'] < RING_CUTT_OFF_COEF)].copy()\n",
    "\n",
    "minus_doxy_plus_cisp_plus_liv_df = filtered_df[(filtered_df['Doxy'] == '-doxy') & (filtered_df['Treatment'] == '+Cisp') & (filtered_df['LIV'] == '+LIV') ].copy()\n",
    "\n",
    "# Normalize 'AF488-T3 av_signal_in_nuc_area_3D' by average of '0hr' group\n",
    "average_0hr = minus_doxy_plus_cisp_plus_liv_no_ring_df[minus_doxy_plus_cisp_plus_liv_no_ring_df['Time'] == '0hr']['AF488-T3 Volume_corrected_signal_in_nuc_area_3D'].mean()\n",
    "minus_doxy_plus_cisp_plus_liv_no_ring_df.loc[:, 'AF488-T3 Volume_corrected_signal_in_nuc_area_3D'] /= average_0hr\n",
    "print(f\"Total -Doxy +LIV +Cisp: {len(minus_doxy_plus_cisp_plus_liv_df)}\")\n",
    "print(f\"No ring -Doxy +LIV +Cisp: {len(minus_doxy_plus_cisp_plus_liv_no_ring_df)} = \"\n",
    "      f\"0hr: {len(minus_doxy_plus_cisp_plus_liv_no_ring_df[minus_doxy_plus_cisp_plus_liv_no_ring_df['Time'] == '0hr'])} + \"\n",
    "      f\"48hr: {len(minus_doxy_plus_cisp_plus_liv_no_ring_df[minus_doxy_plus_cisp_plus_liv_no_ring_df['Time'] == '48hr'])}\")"
   ],
   "metadata": {
    "collapsed": false,
    "pycharm": {
     "is_executing": true
    }
   }
  },
  {
   "cell_type": "code",
   "execution_count": null,
   "outputs": [],
   "source": [
    "# Extract data for '0hr' and '48hr' groups\n",
    "group_0hr = minus_doxy_plus_cisp_plus_liv_no_ring_df[minus_doxy_plus_cisp_plus_liv_no_ring_df['Time'] == '0hr']['AF488-T3 Volume_corrected_signal_in_nuc_area_3D']\n",
    "group_48hr = minus_doxy_plus_cisp_plus_liv_no_ring_df[minus_doxy_plus_cisp_plus_liv_no_ring_df['Time'] == '48hr']['AF488-T3 Volume_corrected_signal_in_nuc_area_3D']\n",
    "\n",
    "group_48hr_minus_doxy_plus_liv_plus_cisp = minus_doxy_plus_cisp_plus_liv_no_ring_df[minus_doxy_plus_cisp_plus_liv_no_ring_df['Time'] == '48hr']['AF488-T3 Volume_corrected_signal_in_nuc_area_3D']\n",
    "\n",
    "# Perform the Mann-Whitney U test\n",
    "stat, p = mannwhitneyu(group_0hr, group_48hr)\n",
    "\n",
    "# Print the p-value\n",
    "print('p-value:', p)\n"
   ],
   "metadata": {
    "collapsed": false,
    "pycharm": {
     "is_executing": true
    }
   }
  },
  {
   "cell_type": "code",
   "execution_count": null,
   "outputs": [],
   "source": [
    "# Adjust significance comparisons for '+LIV' group only\n",
    "significanceComparisons = [('0hr','48hr')]\n",
    "\n",
    "fig_args = {'x': 'Time',\n",
    "            'y': 'AF488-T3 Volume_corrected_signal_in_nuc_area_3D',\n",
    "            'data': minus_doxy_plus_cisp_plus_liv_no_ring_df,\n",
    "            'dodge': True,\n",
    "            'palette': pal}\n",
    "\n",
    "fig, ax = plt.subplots(1,1, figsize=(10,10))\n",
    "\n",
    "sns.barplot(ax=ax, **fig_args)\n",
    "\n",
    "# Annotate the bars with their actual mean values\n",
    "for p in ax.patches:\n",
    "    ax.annotate(f\"{p.get_height():.2f}\",\n",
    "                (p.get_x(), p.get_height()),\n",
    "                ha='left', va='center', fontsize=30, color='black',\n",
    "                xytext=(5, 20),  # Add a slight horizontal offset to prevent overlap with the bar\n",
    "                textcoords='offset points')\n",
    "\n",
    "# You might need to import the StatAnnotator\n",
    "annotator = Annotator(ax=ax, pairs=significanceComparisons, **fig_args)\n",
    "annotator.configure(**configuration).apply_test().annotate()\n",
    "\n",
    "# To modify title size use\n",
    "ax.set_title('-Doxy +LIV +Cisp \\nNo ring\\n', fontsize=20)\n",
    "\n",
    "# Set label size - this modifies both x and y axis labels\n",
    "ax.tick_params(labelsize=20)\n",
    "\n",
    "# To modify x and y labels size use\n",
    "ax.set_xlabel('Time', fontsize=20)\n",
    "ax.set_ylabel('AF488-T3 signal corrected to nuc Volume', fontsize=20)\n",
    "\n",
    "plt.savefig('figures/-Doxy +LIV +Cisp.png', dpi=300, bbox_inches='tight')"
   ],
   "metadata": {
    "collapsed": false,
    "pycharm": {
     "is_executing": true
    }
   }
  },
  {
   "cell_type": "code",
   "execution_count": null,
   "outputs": [],
   "source": [
    "minus_doxy_plus_cisp_plus_liv_no_ring_df.columns"
   ],
   "metadata": {
    "collapsed": false,
    "pycharm": {
     "is_executing": true
    }
   }
  },
  {
   "cell_type": "code",
   "execution_count": null,
   "outputs": [],
   "source": [
    "# Adjust significance comparisons for '+LIV' group only\n",
    "significanceComparisons = [('0hr','48hr')]\n",
    "\n",
    "fig_args = {'x': 'Time',\n",
    "            'y': 'Nucleus_volume, cubic_micrometre',\n",
    "            'data': minus_doxy_plus_cisp_plus_liv_no_ring_df,\n",
    "            'dodge': True,\n",
    "            'palette': pal}\n",
    "\n",
    "fig, ax = plt.subplots(1,1, figsize=(10,10))\n",
    "\n",
    "sns.barplot(ax=ax, **fig_args)\n",
    "\n",
    "# Annotate the bars with their actual mean values\n",
    "for p in ax.patches:\n",
    "    ax.annotate(f\"{p.get_height():.2f}\",\n",
    "                (p.get_x(), p.get_height()),\n",
    "                ha='left', va='center', fontsize=30, color='black',\n",
    "                xytext=(5, 20),  # Add a slight horizontal offset to prevent overlap with the bar\n",
    "                textcoords='offset points')\n",
    "\n",
    "# You might need to import the StatAnnotator\n",
    "annotator = Annotator(ax=ax, pairs=significanceComparisons, **fig_args)\n",
    "annotator.configure(**configuration).apply_test().annotate()\n",
    "\n",
    "# To modify title size use\n",
    "ax.set_title('-Doxy +LIV +Cisp \\nNo ring\\n', fontsize=20)\n",
    "\n",
    "# Set label size - this modifies both x and y axis labels\n",
    "ax.tick_params(labelsize=20)\n",
    "\n",
    "# To modify x and y labels size use\n",
    "ax.set_xlabel('Time', fontsize=20)\n",
    "ax.set_ylabel('Nucleus volume, µm3', fontsize=20)\n",
    "\n",
    "plt.savefig('figures/-Doxy +LIV +Cisp Nucleus_volume.png', dpi=300, bbox_inches='tight')"
   ],
   "metadata": {
    "collapsed": false,
    "pycharm": {
     "is_executing": true
    }
   }
  },
  {
   "cell_type": "markdown",
   "source": [
    "## +Doxy +LIV +Cisp"
   ],
   "metadata": {
    "collapsed": false
   }
  },
  {
   "cell_type": "code",
   "execution_count": null,
   "outputs": [],
   "source": [
    "# Filter DataFrame to only include '- Doxy +Crisp +LIV' group without rings\n",
    "plus_doxy_plus_cisp_plus_liv_with_ring_df = filtered_df[(filtered_df['Doxy'] == '+doxy') & (filtered_df['Treatment'] == '+Cisp') & (filtered_df['LIV'] == '+LIV') & (filtered_df['AF594-T2 ring intensity coef'] >= RING_CUTT_OFF_COEF)].copy()\n",
    "\n",
    "plus_doxy_plus_cisp_plus_liv_df = filtered_df[(filtered_df['Doxy'] == '+doxy') & (filtered_df['Treatment'] == '+Cisp') & (filtered_df['LIV'] == '+LIV') ].copy()\n",
    "\n",
    "# Normalize 'AF488-T3 av_signal_in_nuc_area_3D' by average of '0hr' group\n",
    "average_0hr = plus_doxy_plus_cisp_plus_liv_with_ring_df[plus_doxy_plus_cisp_plus_liv_with_ring_df['Time'] == '0hr']['AF488-T3 Volume_corrected_signal_in_nuc_area_3D'].mean()\n",
    "plus_doxy_plus_cisp_plus_liv_with_ring_df.loc[:, 'AF488-T3 Volume_corrected_signal_in_nuc_area_3D'] /= average_0hr\n",
    "print(f\"Total +Doxy +LIV +Cisp: {len(plus_doxy_plus_cisp_plus_liv_df)}\")\n",
    "\n",
    "print(f\"With ring +Doxy +LIV +Cisp: {len(plus_doxy_plus_cisp_plus_liv_with_ring_df)} = \"\n",
    "      f\"0hr: {len(plus_doxy_plus_cisp_plus_liv_with_ring_df[plus_doxy_plus_cisp_plus_liv_with_ring_df['Time'] == '0hr'])} + \"\n",
    "      f\"48hr: {len(plus_doxy_plus_cisp_plus_liv_with_ring_df[plus_doxy_plus_cisp_plus_liv_with_ring_df['Time'] == '48hr'])}\")"
   ],
   "metadata": {
    "collapsed": false,
    "pycharm": {
     "is_executing": true
    }
   }
  },
  {
   "cell_type": "code",
   "execution_count": null,
   "outputs": [],
   "source": [
    "# Extract data for '0hr' and '48hr' groups\n",
    "group_0hr = plus_doxy_plus_cisp_plus_liv_with_ring_df[plus_doxy_plus_cisp_plus_liv_with_ring_df['Time'] == '0hr']['AF488-T3 Volume_corrected_signal_in_nuc_area_3D']\n",
    "group_48hr = plus_doxy_plus_cisp_plus_liv_with_ring_df[plus_doxy_plus_cisp_plus_liv_with_ring_df['Time'] == '48hr']['AF488-T3 Volume_corrected_signal_in_nuc_area_3D']\n",
    "\n",
    "# Perform the Mann-Whitney U test\n",
    "stat, p = mannwhitneyu(group_0hr, group_48hr)\n",
    "\n",
    "# Print the p-value\n",
    "print('p-value:', p)"
   ],
   "metadata": {
    "collapsed": false,
    "pycharm": {
     "is_executing": true
    }
   }
  },
  {
   "cell_type": "code",
   "execution_count": null,
   "outputs": [],
   "source": [
    "fig_args = {'x': 'Time',\n",
    "            'y': 'Nucleus_volume, cubic_micrometre',\n",
    "            'data': plus_doxy_plus_cisp_plus_liv_with_ring_df,\n",
    "            'dodge': True,\n",
    "            'palette': pal}\n",
    "\n",
    "fig, ax = plt.subplots(1,1, figsize=(10,10))\n",
    "\n",
    "sns.barplot(ax=ax, **fig_args)\n",
    "\n",
    "# Annotate the bars with their actual mean values\n",
    "for p in ax.patches:\n",
    "    ax.annotate(f\"{p.get_height():.2f}\",\n",
    "                (p.get_x(), p.get_height()),\n",
    "                ha='left', va='center', fontsize=30, color='black',\n",
    "                xytext=(5, 20),  # Add a slight horizontal offset to prevent overlap with the bar\n",
    "                textcoords='offset points')\n",
    "\n",
    "# You might need to import the StatAnnotator\n",
    "annotator = Annotator(ax=ax, pairs=significanceComparisons, **fig_args)\n",
    "annotator.configure(**configuration).apply_test().annotate()\n",
    "\n",
    "# To modify title size use\n",
    "ax.set_title('+Doxy +LIV +Cisp \\nWith ring\\n', fontsize=20)\n",
    "\n",
    "# Set label size - this modifies both x and y axis labels\n",
    "ax.tick_params(labelsize=20)\n",
    "\n",
    "# To modify x and y labels size use\n",
    "ax.set_xlabel('Time', fontsize=20)\n",
    "ax.set_ylabel('Nucleus_volume, µm3', fontsize=20)\n",
    "\n",
    "plt.savefig('figures/+Doxy +LIV +Cisp Nucleus_volume.png', dpi=300, bbox_inches='tight')"
   ],
   "metadata": {
    "collapsed": false,
    "pycharm": {
     "is_executing": true
    }
   }
  },
  {
   "cell_type": "code",
   "execution_count": null,
   "outputs": [],
   "source": [
    "fig_args = {'x': 'Time',\n",
    "            'y': 'AF488-T3 Volume_corrected_signal_in_nuc_area_3D',\n",
    "            'data': plus_doxy_plus_cisp_plus_liv_with_ring_df,\n",
    "            'dodge': True,\n",
    "            'palette': pal}\n",
    "\n",
    "fig, ax = plt.subplots(1,1, figsize=(10,10))\n",
    "\n",
    "sns.barplot(ax=ax, **fig_args)\n",
    "\n",
    "# Annotate the bars with their actual mean values\n",
    "for p in ax.patches:\n",
    "    ax.annotate(f\"{p.get_height():.2f}\",\n",
    "                (p.get_x(), p.get_height()),\n",
    "                ha='left', va='center', fontsize=30, color='black',\n",
    "                xytext=(5, 20),  # Add a slight horizontal offset to prevent overlap with the bar\n",
    "                textcoords='offset points')\n",
    "\n",
    "# You might need to import the StatAnnotator\n",
    "annotator = Annotator(ax=ax, pairs=significanceComparisons, **fig_args)\n",
    "annotator.configure(**configuration).apply_test().annotate()\n",
    "\n",
    "# To modify title size use\n",
    "ax.set_title('+Doxy +LIV +Cisp \\nWith ring\\n', fontsize=20)\n",
    "\n",
    "# Set label size - this modifies both x and y axis labels\n",
    "ax.tick_params(labelsize=20)\n",
    "\n",
    "# To modify x and y labels size use\n",
    "ax.set_xlabel('Time', fontsize=20)\n",
    "ax.set_ylabel('AF488-T3 signal corrected to nuc Volume', fontsize=20)\n",
    "\n",
    "plt.savefig('figures/+Doxy +LIV +Cisp.png', dpi=300, bbox_inches='tight')"
   ],
   "metadata": {
    "collapsed": false,
    "pycharm": {
     "is_executing": true
    }
   }
  },
  {
   "cell_type": "markdown",
   "source": [
    "## -Doxy -LIV +Cisp"
   ],
   "metadata": {
    "collapsed": false
   }
  },
  {
   "cell_type": "code",
   "execution_count": null,
   "outputs": [],
   "source": [
    "# Filter DataFrame to only include '- Doxy +Crisp +LIV' group without rings\n",
    "minus_doxy_plus_cisp_minus_liv_no_ring_df = filtered_df[(filtered_df['Doxy'] == '-doxy') & (filtered_df['Treatment'] == '+Cisp') & (filtered_df['LIV'] == '-LIV') & (filtered_df['AF594-T2 ring intensity coef'] < RING_CUTT_OFF_COEF)].copy()\n",
    "\n",
    "minus_doxy_plus_cisp_minus_liv_df = filtered_df[(filtered_df['Doxy'] == '-doxy') & (filtered_df['Treatment'] == '+Cisp') & (filtered_df['LIV'] == '-LIV') ].copy()\n",
    "\n",
    "# Normalize 'AF488-T3 av_signal_in_nuc_area_3D' by average of '0hr' group\n",
    "average_0hr = minus_doxy_plus_cisp_minus_liv_no_ring_df[minus_doxy_plus_cisp_minus_liv_no_ring_df['Time'] == '0hr']['AF488-T3 Volume_corrected_signal_in_nuc_area_3D'].mean()\n",
    "minus_doxy_plus_cisp_minus_liv_no_ring_df.loc[:, 'AF488-T3 Volume_corrected_signal_in_nuc_area_3D'] /= average_0hr\n",
    "print(f\"Total -Doxy -LIV +Cisp: {len(minus_doxy_plus_cisp_minus_liv_df)}\")\n",
    "print(f\"No ring -Doxy -LIV +Cisp: {len(minus_doxy_plus_cisp_minus_liv_no_ring_df)} = \"\n",
    "      f\"0hr: {len(minus_doxy_plus_cisp_minus_liv_no_ring_df[minus_doxy_plus_cisp_minus_liv_no_ring_df['Time'] == '0hr'])} + \"\n",
    "      f\"48hr: {len(minus_doxy_plus_cisp_minus_liv_no_ring_df[minus_doxy_plus_cisp_minus_liv_no_ring_df['Time'] == '48hr'])}\")"
   ],
   "metadata": {
    "collapsed": false,
    "pycharm": {
     "is_executing": true
    }
   }
  },
  {
   "cell_type": "code",
   "execution_count": null,
   "outputs": [],
   "source": [
    "# Extract data for '0hr' and '48hr' groups\n",
    "group_0hr = minus_doxy_plus_cisp_minus_liv_no_ring_df[minus_doxy_plus_cisp_minus_liv_no_ring_df['Time'] == '0hr']['AF488-T3 Volume_corrected_signal_in_nuc_area_3D']\n",
    "group_48hr = minus_doxy_plus_cisp_minus_liv_no_ring_df[minus_doxy_plus_cisp_minus_liv_no_ring_df['Time'] == '48hr']['AF488-T3 Volume_corrected_signal_in_nuc_area_3D']\n",
    "\n",
    "# Perform the Mann-Whitney U test\n",
    "stat, p = mannwhitneyu(group_0hr, group_48hr)\n",
    "\n",
    "print(f\"P-value for volume: {p}\")"
   ],
   "metadata": {
    "collapsed": false,
    "pycharm": {
     "is_executing": true
    }
   }
  },
  {
   "cell_type": "code",
   "execution_count": null,
   "outputs": [],
   "source": [
    "fig_args = {'x': 'Time',\n",
    "            'y': 'AF488-T3 Volume_corrected_signal_in_nuc_area_3D',\n",
    "            'data': minus_doxy_plus_cisp_minus_liv_no_ring_df,\n",
    "            'dodge': True,\n",
    "            'palette': pal}\n",
    "\n",
    "fig, ax = plt.subplots(1,1, figsize=(10,10))\n",
    "\n",
    "sns.barplot(ax=ax, **fig_args)\n",
    "\n",
    "# Annotate the bars with their actual mean values\n",
    "for p in ax.patches:\n",
    "    ax.annotate(f\"{p.get_height():.2f}\",\n",
    "                (p.get_x(), p.get_height()),\n",
    "                ha='left', va='center', fontsize=30, color='black',\n",
    "                xytext=(5, 20),  # Add a slight horizontal offset to prevent overlap with the bar\n",
    "                textcoords='offset points')\n",
    "\n",
    "# You might need to import the StatAnnotator\n",
    "annotator = Annotator(ax=ax, pairs=significanceComparisons, **fig_args)\n",
    "annotator.configure(**configuration).apply_test().annotate()\n",
    "\n",
    "# To modify title size use\n",
    "ax.set_title('-Doxy -LIV +Cisp \\nNo ring\\n', fontsize=20)\n",
    "\n",
    "# Set label size - this modifies both x and y axis labels\n",
    "ax.tick_params(labelsize=20)\n",
    "\n",
    "# To modify x and y labels size use\n",
    "ax.set_xlabel('Time', fontsize=20)\n",
    "ax.set_ylabel('AF488-T3 signal corrected to nuc Volume', fontsize=20)\n",
    "\n",
    "plt.savefig('figures/-Doxy -LIV +Cisp.png', dpi=300, bbox_inches='tight')"
   ],
   "metadata": {
    "collapsed": false,
    "pycharm": {
     "is_executing": true
    }
   }
  },
  {
   "cell_type": "code",
   "execution_count": null,
   "outputs": [],
   "source": [
    "fig_args = {'x': 'Time',\n",
    "            'y': 'Nucleus_volume, cubic_micrometre',\n",
    "            'data': minus_doxy_plus_cisp_minus_liv_no_ring_df,\n",
    "            'dodge': True,\n",
    "            'palette': pal}\n",
    "\n",
    "fig, ax = plt.subplots(1,1, figsize=(10,10))\n",
    "\n",
    "sns.barplot(ax=ax, **fig_args)\n",
    "\n",
    "# Annotate the bars with their actual mean values\n",
    "for p in ax.patches:\n",
    "    ax.annotate(f\"{p.get_height():.2f}\",\n",
    "                (p.get_x(), p.get_height()),\n",
    "                ha='left', va='center', fontsize=30, color='black',\n",
    "                xytext=(5, 20),  # Add a slight horizontal offset to prevent overlap with the bar\n",
    "                textcoords='offset points')\n",
    "\n",
    "# You might need to import the StatAnnotator\n",
    "annotator = Annotator(ax=ax, pairs=significanceComparisons, **fig_args)\n",
    "annotator.configure(**configuration).apply_test().annotate()\n",
    "\n",
    "# To modify title size use\n",
    "ax.set_title('-Doxy -LIV +Cisp \\nNo ring\\n', fontsize=20)\n",
    "\n",
    "# Set label size - this modifies both x and y axis labels\n",
    "ax.tick_params(labelsize=20)\n",
    "\n",
    "# To modify x and y labels size use\n",
    "ax.set_xlabel('Time', fontsize=20)\n",
    "ax.set_ylabel('Nucleus_volume, µm3', fontsize=20)\n",
    "\n",
    "plt.savefig('figures/-Doxy -LIV +Cisp Nucleus_volume, cubic_micrometre.png', dpi=300, bbox_inches='tight')"
   ],
   "metadata": {
    "collapsed": false,
    "pycharm": {
     "is_executing": true
    }
   }
  },
  {
   "cell_type": "markdown",
   "source": [
    "## +Doxy -LIV +Cisp"
   ],
   "metadata": {
    "collapsed": false
   }
  },
  {
   "cell_type": "code",
   "execution_count": null,
   "outputs": [],
   "source": [
    "# Filter DataFrame to only include '+Doxy +Crisp -LIV' group with rings\n",
    "plus_doxy_plus_cisp_minus_liv_with_ring_df = filtered_df[(filtered_df['Doxy'] == '+doxy') & (filtered_df['Treatment'] == '+Cisp') & (filtered_df['LIV'] == '-LIV') & (filtered_df['AF594-T2 ring intensity coef'] >= RING_CUTT_OFF_COEF)].copy()\n",
    "\n",
    "\n",
    "plus_doxy_plus_cisp_minus_liv_df = filtered_df[(filtered_df['Doxy'] == '+doxy') & (filtered_df['Treatment'] == '+Cisp') & (filtered_df['LIV'] == '-LIV') ].copy()\n",
    "\n",
    "# Normalize 'AF488-T3 av_signal_in_nuc_area_3D' by average of '0hr' group\n",
    "average_0hr = plus_doxy_plus_cisp_minus_liv_with_ring_df[plus_doxy_plus_cisp_minus_liv_with_ring_df['Time'] == '0hr']['AF488-T3 Volume_corrected_signal_in_nuc_area_3D'].mean()\n",
    "\n",
    "plus_doxy_plus_cisp_minus_liv_with_ring_df.loc[:, 'AF488-T3 Volume_corrected_signal_in_nuc_area_3D'] /= average_0hr\n",
    "\n",
    "\n",
    "print(f\"Total +Doxy -LIV +Cisp: {len(plus_doxy_plus_cisp_minus_liv_df)}\")\n",
    "print(f\"With ring +Doxy -LIV +Cisp: {len(plus_doxy_plus_cisp_minus_liv_with_ring_df)} = \"\n",
    "      f\"0hr: {len(plus_doxy_plus_cisp_minus_liv_with_ring_df[plus_doxy_plus_cisp_minus_liv_with_ring_df['Time'] == '0hr'])} + \"\n",
    "      f\"48hr: {len(plus_doxy_plus_cisp_minus_liv_with_ring_df[plus_doxy_plus_cisp_minus_liv_with_ring_df['Time'] == '48hr'])}\")\n"
   ],
   "metadata": {
    "collapsed": false,
    "pycharm": {
     "is_executing": true
    }
   }
  },
  {
   "cell_type": "code",
   "execution_count": null,
   "outputs": [],
   "source": [
    "plus_doxy_plus_cisp_minus_liv_with_ring_df"
   ],
   "metadata": {
    "collapsed": false,
    "pycharm": {
     "is_executing": true
    }
   }
  },
  {
   "cell_type": "code",
   "execution_count": null,
   "outputs": [],
   "source": [
    "# Extract data for '0hr' and '48hr' groups\n",
    "group_0hr = plus_doxy_plus_cisp_minus_liv_with_ring_df[plus_doxy_plus_cisp_minus_liv_with_ring_df['Time'] == '0hr']['AF488-T3 Volume_corrected_signal_in_nuc_area_3D']\n",
    "group_48hr = plus_doxy_plus_cisp_minus_liv_with_ring_df[plus_doxy_plus_cisp_minus_liv_with_ring_df['Time'] == '48hr']['AF488-T3 Volume_corrected_signal_in_nuc_area_3D']\n",
    "\n",
    "# Perform the Mann-Whitney U test\n",
    "stat, p = mannwhitneyu(group_0hr, group_48hr)\n",
    "\n",
    "# Print the p-value\n",
    "print('p-value:', p)"
   ],
   "metadata": {
    "collapsed": false,
    "pycharm": {
     "is_executing": true
    }
   }
  },
  {
   "cell_type": "code",
   "execution_count": null,
   "outputs": [],
   "source": [
    "fig_args = {'x': 'Time',\n",
    "            'y': 'Nucleus_volume, cubic_micrometre',\n",
    "            'data': plus_doxy_plus_cisp_minus_liv_with_ring_df,\n",
    "            'dodge': True,\n",
    "            'palette': pal}\n",
    "\n",
    "fig, ax = plt.subplots(1,1, figsize=(10,10))\n",
    "# Adjust significance comparisons for '+LIV' group only\n",
    "significanceComparisons = [('0hr','48hr')]\n",
    "sns.barplot(ax=ax, **fig_args)\n",
    "\n",
    "# Annotate the bars with their actual mean values\n",
    "for p in ax.patches:\n",
    "    ax.annotate(f\"{p.get_height():.2f}\",\n",
    "                (p.get_x(), p.get_height()),\n",
    "                ha='left', va='center', fontsize=30, color='black',\n",
    "                xytext=(5, 20),  # Add a slight horizontal offset to prevent overlap with the bar\n",
    "                textcoords='offset points')\n",
    "\n",
    "# You might need to import the StatAnnotator\n",
    "annotator = Annotator(ax=ax, pairs=significanceComparisons, **fig_args)\n",
    "annotator.configure(**configuration).apply_test().annotate()\n",
    "\n",
    "# To modify title size use\n",
    "ax.set_title('+Doxy -LIV +Cisp\\nWith ring\\n', fontsize=20)\n",
    "\n",
    "# Set label size - this modifies both x and y axis labels\n",
    "ax.tick_params(labelsize=20)\n",
    "\n",
    "# To modify x and y labels size use\n",
    "ax.set_xlabel('Time', fontsize=20)\n",
    "ax.set_ylabel('Nucleus_volume, µm3', fontsize=20)\n",
    "\n",
    "plt.savefig('figures/+Doxy -LIV +Cisp Nucleus_volume.png', dpi=300, bbox_inches='tight')"
   ],
   "metadata": {
    "collapsed": false,
    "pycharm": {
     "is_executing": true
    }
   }
  },
  {
   "cell_type": "code",
   "execution_count": null,
   "outputs": [],
   "source": [
    "fig_args = {'x': 'Time',\n",
    "            'y': 'AF488-T3 Volume_corrected_signal_in_nuc_area_3D',\n",
    "            'data': plus_doxy_plus_cisp_minus_liv_with_ring_df,\n",
    "            'dodge': True,\n",
    "            'palette': pal}\n",
    "\n",
    "fig, ax = plt.subplots(1,1, figsize=(10,10))\n",
    "# Adjust significance comparisons for '+LIV' group only\n",
    "significanceComparisons = [('0hr','48hr')]\n",
    "sns.barplot(ax=ax, **fig_args)\n",
    "\n",
    "# Annotate the bars with their actual mean values\n",
    "for p in ax.patches:\n",
    "    ax.annotate(f\"{p.get_height():.2f}\",\n",
    "                (p.get_x(), p.get_height()),\n",
    "                ha='left', va='center', fontsize=30, color='black',\n",
    "                xytext=(5, 20),  # Add a slight horizontal offset to prevent overlap with the bar\n",
    "                textcoords='offset points')\n",
    "\n",
    "# You might need to import the StatAnnotator\n",
    "annotator = Annotator(ax=ax, pairs=significanceComparisons, **fig_args)\n",
    "annotator.configure(**configuration).apply_test().annotate()\n",
    "\n",
    "# To modify title size use\n",
    "ax.set_title('+Doxy -LIV +Cisp\\nWith ring\\n', fontsize=20)\n",
    "\n",
    "# Set label size - this modifies both x and y axis labels\n",
    "ax.tick_params(labelsize=20)\n",
    "\n",
    "# To modify x and y labels size use\n",
    "ax.set_xlabel('Time', fontsize=20)\n",
    "ax.set_ylabel('AF488-T3 signal corrected to nuc Volume', fontsize=20)\n",
    "\n",
    "plt.savefig('figures/+Doxy -LIV +Cisp.png', dpi=300, bbox_inches='tight')"
   ],
   "metadata": {
    "collapsed": false,
    "pycharm": {
     "is_executing": true
    }
   }
  },
  {
   "cell_type": "markdown",
   "source": [
    "## -Doxy -LIV +Cisp 48hr VS. -Doxy +LIV +Cisp 48hr"
   ],
   "metadata": {
    "collapsed": false
   }
  },
  {
   "cell_type": "code",
   "execution_count": null,
   "outputs": [],
   "source": [
    "# Filter DataFrame to only include '+Doxy +Crisp -LIV' group with rings\n",
    "minus_doxy_plus_cisp_48hr_no_ring_df = filtered_df[(filtered_df['Doxy'] == '-doxy') & (filtered_df['Treatment'] == '+Cisp') & (filtered_df['Time'] == '48hr') & (filtered_df['AF594-T2 ring intensity coef'] < RING_CUTT_OFF_COEF)].copy()\n",
    "minus_doxy_plus_cisp_48hr = filtered_df[(filtered_df['Doxy'] == '-doxy') & (filtered_df['Treatment'] == '+Cisp') & (filtered_df['Time'] == '48hr')].copy()\n",
    "\n",
    "# Normalize 'AF488-T3 av_signal_in_nuc_area_3D' by average of '-LIV' group\n",
    "average_plus_liv = minus_doxy_plus_cisp_48hr_no_ring_df[minus_doxy_plus_cisp_48hr_no_ring_df['LIV'] == '+LIV']['AF488-T3 Volume_corrected_signal_in_nuc_area_3D'].mean()\n",
    "\n",
    "minus_doxy_plus_cisp_48hr_no_ring_df.loc[:, 'AF488-T3 Volume_corrected_signal_in_nuc_area_3D'] /= average_plus_liv\n",
    "\n",
    "\n",
    "print(f\"Total -Doxy +Cisp 48hr: {len(minus_doxy_plus_cisp_48hr)}\")\n",
    "print(f\"No ring -Doxy -LIV +Cisp: {len(minus_doxy_plus_cisp_48hr_no_ring_df)} = \"\n",
    "      f\"-LIV: {len(minus_doxy_plus_cisp_48hr_no_ring_df[minus_doxy_plus_cisp_48hr_no_ring_df['LIV'] == '-LIV'])} + \"\n",
    "      f\"+LIV: {len(minus_doxy_plus_cisp_48hr_no_ring_df[minus_doxy_plus_cisp_48hr_no_ring_df['LIV'] == '+LIV'])}\")"
   ],
   "metadata": {
    "collapsed": false,
    "pycharm": {
     "is_executing": true
    }
   }
  },
  {
   "cell_type": "code",
   "execution_count": null,
   "outputs": [],
   "source": [
    "plus_doxy_plus_cisp_minus_liv_with_ring_df"
   ],
   "metadata": {
    "collapsed": false,
    "pycharm": {
     "is_executing": true
    }
   }
  },
  {
   "cell_type": "code",
   "execution_count": null,
   "outputs": [],
   "source": [
    "# Extract data for '-LIV' and '+LIV' groups\n",
    "group_minus_liv = minus_doxy_plus_cisp_48hr_no_ring_df[minus_doxy_plus_cisp_48hr_no_ring_df['LIV'] == '-LIV']['AF488-T3 Volume_corrected_signal_in_nuc_area_3D']\n",
    "group_plus_liv = minus_doxy_plus_cisp_48hr_no_ring_df[minus_doxy_plus_cisp_48hr_no_ring_df['LIV'] == '+LIV']['AF488-T3 Volume_corrected_signal_in_nuc_area_3D']\n",
    "\n",
    "# Perform the Mann-Whitney U test\n",
    "stat, p = mannwhitneyu(group_minus_liv, group_plus_liv)\n",
    "\n",
    "# Print the p-value\n",
    "print('p-value:', p)"
   ],
   "metadata": {
    "collapsed": false,
    "pycharm": {
     "is_executing": true
    }
   }
  },
  {
   "cell_type": "code",
   "execution_count": null,
   "outputs": [],
   "source": [
    "fig_args = {'x': 'LIV',\n",
    "            'y': 'AF488-T3 Volume_corrected_signal_in_nuc_area_3D',\n",
    "            'data': minus_doxy_plus_cisp_48hr_no_ring_df,\n",
    "            'dodge': True,\n",
    "            'palette': pal}\n",
    "\n",
    "fig, ax = plt.subplots(1,1, figsize=(10,10))\n",
    "# Adjust significance comparisons for '+LIV' group only\n",
    "significanceComparisons = [('-LIV','+LIV')]\n",
    "sns.barplot(ax=ax, **fig_args)\n",
    "\n",
    "# Annotate the bars with their actual mean values\n",
    "for p in ax.patches:\n",
    "    ax.annotate(f\"{p.get_height():.2f}\",\n",
    "                (p.get_x(), p.get_height()),\n",
    "                ha='left', va='center', fontsize=30, color='black',\n",
    "                xytext=(5, 20),  # Add a slight horizontal offset to prevent overlap with the bar\n",
    "                textcoords='offset points')\n",
    "\n",
    "# You might need to import the StatAnnotator\n",
    "annotator = Annotator(ax=ax, pairs=significanceComparisons, **fig_args)\n",
    "annotator.configure(**configuration).apply_test().annotate()\n",
    "\n",
    "# To modify title size use\n",
    "ax.set_title('-Doxy +Cisp 48hr\\nNo ring\\n', fontsize=20)\n",
    "\n",
    "# Set label size - this modifies both x and y axis labels\n",
    "ax.tick_params(labelsize=20)\n",
    "\n",
    "# To modify x and y labels size use\n",
    "ax.set_xlabel('Time', fontsize=20)\n",
    "ax.set_ylabel('AF488-T3 signal corrected to nuc Volume', fontsize=20)\n",
    "\n",
    "plt.savefig('figures/-Doxy +Cisp 48hr.png', dpi=300, bbox_inches='tight')\n"
   ],
   "metadata": {
    "collapsed": false,
    "pycharm": {
     "is_executing": true
    }
   }
  },
  {
   "cell_type": "code",
   "execution_count": null,
   "outputs": [],
   "source": [
    "minus_doxy_plus_cisp_48hr_no_ring_df.columns"
   ],
   "metadata": {
    "collapsed": false,
    "pycharm": {
     "is_executing": true
    }
   }
  },
  {
   "cell_type": "code",
   "execution_count": null,
   "outputs": [],
   "source": [
    "fig_args = {'x': 'LIV',\n",
    "            'y': 'Nucleus_volume, cubic_micrometre',\n",
    "            'data': minus_doxy_plus_cisp_48hr_no_ring_df,\n",
    "            'dodge': True,\n",
    "            'palette': pal}\n",
    "\n",
    "fig, ax = plt.subplots(1,1, figsize=(10,10))\n",
    "# Adjust significance comparisons for '+LIV' group only\n",
    "significanceComparisons = [('-LIV','+LIV')]\n",
    "sns.barplot(ax=ax, **fig_args)\n",
    "\n",
    "# Annotate the bars with their actual mean values\n",
    "for p in ax.patches:\n",
    "    ax.annotate(f\"{p.get_height():.2f}\",\n",
    "                (p.get_x(), p.get_height()),\n",
    "                ha='left', va='center', fontsize=30, color='black',\n",
    "                xytext=(5, 20),  # Add a slight horizontal offset to prevent overlap with the bar\n",
    "                textcoords='offset points')\n",
    "\n",
    "# You might need to import the StatAnnotator\n",
    "annotator = Annotator(ax=ax, pairs=significanceComparisons, **fig_args)\n",
    "annotator.configure(**configuration).apply_test().annotate()\n",
    "\n",
    "# To modify title size use\n",
    "ax.set_title('-Doxy +Cisp 48hr\\nNo ring\\n', fontsize=20)\n",
    "\n",
    "# Set label size - this modifies both x and y axis labels\n",
    "ax.tick_params(labelsize=20)\n",
    "\n",
    "# To modify x and y labels size use\n",
    "ax.set_xlabel('Time', fontsize=20)\n",
    "ax.set_ylabel('Nuc Volume', fontsize=20)\n",
    "\n",
    "plt.savefig('figures/-Doxy +Cisp 48hr Nucleus volume.png', dpi=300, bbox_inches='tight')"
   ],
   "metadata": {
    "collapsed": false,
    "pycharm": {
     "is_executing": true
    }
   }
  },
  {
   "cell_type": "code",
   "execution_count": null,
   "outputs": [],
   "source": [
    "plus_doxy_minus_liv_plus_cisp_0hr = filtered_df[(filtered_df['Doxy'] == '+doxy') & (filtered_df['LIV'] == '-LIV') & (filtered_df['Treatment'] == '+Cisp') & (filtered_df['Time'] == '0hr')]"
   ],
   "metadata": {
    "collapsed": false,
    "pycharm": {
     "is_executing": true
    }
   }
  },
  {
   "cell_type": "code",
   "execution_count": null,
   "outputs": [],
   "source": [
    "plus_doxy_minus_liv_plus_cisp_0hr"
   ],
   "metadata": {
    "collapsed": false,
    "pycharm": {
     "is_executing": true
    }
   }
  },
  {
   "cell_type": "code",
   "execution_count": null,
   "outputs": [],
   "source": [
    "plus_doxy_minus_liv_plus_cisp_0hr['AF488-T3 av_signal_in_nuc_area_3D_removed_background'].mean()"
   ],
   "metadata": {
    "collapsed": false,
    "pycharm": {
     "is_executing": true
    }
   }
  },
  {
   "cell_type": "code",
   "execution_count": null,
   "outputs": [],
   "source": [
    "plus_doxy_minus_liv_plus_cisp_48hr = filtered_df[(filtered_df['Doxy'] == '+doxy') & (filtered_df['LIV'] == '-LIV') & (filtered_df['Treatment'] == '+Cisp') & (filtered_df['Time'] == '48hr')]\n",
    "plus_doxy_minus_liv_plus_cisp_48hr"
   ],
   "metadata": {
    "collapsed": false,
    "pycharm": {
     "is_executing": true
    }
   }
  },
  {
   "cell_type": "code",
   "execution_count": null,
   "outputs": [],
   "source": [
    "plus_doxy_minus_liv_plus_cisp_48hr['AF488-T3 av_signal_in_nuc_area_3D_removed_background'].mean()\n"
   ],
   "metadata": {
    "collapsed": false,
    "pycharm": {
     "is_executing": true
    }
   }
  },
  {
   "cell_type": "code",
   "execution_count": null,
   "outputs": [],
   "source": [
    "filtered_df"
   ],
   "metadata": {
    "collapsed": false,
    "pycharm": {
     "is_executing": true
    }
   }
  },
  {
   "cell_type": "markdown",
   "source": [
    "## Nucleus Volume Comparison"
   ],
   "metadata": {
    "collapsed": false
   }
  },
  {
   "cell_type": "code",
   "execution_count": null,
   "outputs": [],
   "source": [
    "filtered_df_0h = filtered_df[(filtered_df['Time'] == '0hr') & (filtered_df['Treatment'] == '+Cisp')]\n",
    "# Filtering the data based on the conditions\n",
    "filtered_df_0h = filtered_df_0h[((filtered_df_0h['Doxy'] == '+doxy') & (filtered_df_0h['AF594-T2 has ring'] == True)) |\n",
    "                                ((filtered_df_0h['Doxy'] == '-doxy') & (filtered_df_0h['AF594-T2 has ring'] == False))]\n",
    "\n",
    "filtered_df_48h = filtered_df[(filtered_df['Time'] == '48hr') & (filtered_df['Treatment'] == '+Cisp')]\n",
    "# Filtering the data based on the conditions\n",
    "filtered_df_48h = filtered_df_48h[((filtered_df_48h['Doxy'] == '+doxy') & (filtered_df_48h['AF594-T2 has ring'] == True)) |\n",
    "                                ((filtered_df_48h['Doxy'] == '-doxy') & (filtered_df_48h['AF594-T2 has ring'] == False))]\n",
    "filtered_df_48h"
   ],
   "metadata": {
    "collapsed": false,
    "pycharm": {
     "is_executing": true
    }
   }
  },
  {
   "cell_type": "code",
   "execution_count": null,
   "outputs": [],
   "source": [
    "# Custom colors\n",
    "blue = (0.298, 0.447, 0.690)  # a desaturated blue color\n",
    "orange = (1.0, 0.498, 0.055)  # a desaturated orange color\n",
    "pal = [blue, orange]\n",
    "\n",
    "sns.set(font_scale=2, rc={'axes.facecolor':(0,0,0,0), 'figure.facecolor':(0,0,0,0)}, style=\"ticks\")\n",
    "\n",
    "significanceComparisons = [(('+doxy', '-LIV'), ('+doxy', '+LIV')),\n",
    "                           (('-doxy', '-LIV'), ('-doxy','+LIV')),\n",
    "                           (('-doxy', '-LIV'), ('+doxy','-LIV')),\n",
    "                           (('-doxy', '+LIV'), ('+doxy','+LIV'))]\n",
    "\n",
    "fig_args = {'x': 'Doxy',\n",
    "            'y': 'Nucleus_volume, cubic_micrometre',\n",
    "            'hue':'LIV',\n",
    "            'data': filtered_df_0h,\n",
    "            'dodge': True,\n",
    "            'palette': pal}\n",
    "\n",
    "configuration = {'test':'Mann-Whitney',\n",
    "                 'comparisons_correction':None,\n",
    "                 'text_format':'star'}\n",
    "\n",
    "fig, ax = plt.subplots(1,1, figsize=(15,10))\n",
    "\n",
    "# Barplot\n",
    "sns.barplot(ax=ax, **fig_args)\n",
    "\n",
    "# Calculating and adding averages above the bars\n",
    "for p in ax.patches:\n",
    "    ax.annotate(f'{p.get_height():.2f}',\n",
    "                (p.get_x() + p.get_width() / 2., p.get_height()),\n",
    "                ha = 'center', va = 'center',\n",
    "                xytext = (0, 10),\n",
    "                textcoords = 'offset points')\n",
    "\n",
    "# Annotating significance\n",
    "annotator = Annotator(ax=ax, pairs=significanceComparisons, **fig_args)\n",
    "annotator.configure(**configuration).apply_test().annotate()\n",
    "\n",
    "# Title\n",
    "ax.set_title('Volume comparison \\n0 hr \\nwith ring and no ring correction')\n",
    "\n",
    "# Move legend and remove its background\n",
    "sns.move_legend(ax, \"upper left\", bbox_to_anchor=(1, 1))\n",
    "legend = ax.legend_\n",
    "legend.get_frame().set_alpha(0)\n",
    "\n",
    "# Save figure\n",
    "plt.savefig('figures/0h_volume_comparison_with_ring-no-ring_correction.png')\n",
    "\n",
    "plt.show()  # Display the plot\n"
   ],
   "metadata": {
    "collapsed": false,
    "pycharm": {
     "is_executing": true
    }
   }
  },
  {
   "cell_type": "code",
   "execution_count": null,
   "outputs": [],
   "source": [
    "fig_args = {'x': 'Doxy',\n",
    "            'y': 'Nucleus_volume, cubic_micrometre',\n",
    "            'hue':'LIV',\n",
    "            'data': filtered_df_48h,\n",
    "            'dodge': True,\n",
    "            'palette': pal}\n",
    "\n",
    "configuration = {'test':'Mann-Whitney',\n",
    "                 'comparisons_correction':None,\n",
    "                 'text_format':'star'}\n",
    "\n",
    "fig, ax = plt.subplots(1,1, figsize=(15,10))\n",
    "\n",
    "# Barplot\n",
    "sns.barplot(ax=ax, **fig_args)\n",
    "\n",
    "# Calculating and adding averages above the bars\n",
    "for p in ax.patches:\n",
    "    ax.annotate(f'{p.get_height():.2f}',\n",
    "                (p.get_x() + p.get_width() / 2., p.get_height()),\n",
    "                ha = 'center', va = 'center',\n",
    "                xytext = (0, 10),\n",
    "                textcoords = 'offset points')\n",
    "\n",
    "# Annotating significance\n",
    "annotator = Annotator(ax=ax, pairs=significanceComparisons, **fig_args)\n",
    "annotator.configure(**configuration).apply_test().annotate()\n",
    "\n",
    "# Title\n",
    "ax.set_title('Volume comparison \\n48 hr \\nwith ring and no ring correction')\n",
    "\n",
    "# Move legend and remove its background\n",
    "sns.move_legend(ax, \"upper left\", bbox_to_anchor=(1, 1))\n",
    "legend = ax.legend_\n",
    "legend.get_frame().set_alpha(0)\n",
    "\n",
    "# Save figure\n",
    "plt.savefig('figures/48h_volume_comparison_with_ring-no-ring_correction.png')\n",
    "\n",
    "plt.show()  # Display the plot"
   ],
   "metadata": {
    "collapsed": false,
    "pycharm": {
     "is_executing": true
    }
   }
  },
  {
   "cell_type": "code",
   "execution_count": null,
   "outputs": [],
   "source": [],
   "metadata": {
    "collapsed": false,
    "pycharm": {
     "is_executing": true
    }
   }
  }
 ],
 "metadata": {
  "kernelspec": {
   "display_name": "Python 3",
   "language": "python",
   "name": "python3"
  },
  "language_info": {
   "codemirror_mode": {
    "name": "ipython",
    "version": 2
   },
   "file_extension": ".py",
   "mimetype": "text/x-python",
   "name": "python",
   "nbconvert_exporter": "python",
   "pygments_lexer": "ipython2",
   "version": "2.7.6"
  }
 },
 "nbformat": 4,
 "nbformat_minor": 0
}
